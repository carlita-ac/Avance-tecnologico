{
 "cells": [
  {
   "cell_type": "markdown",
   "id": "51bf76c8",
   "metadata": {},
   "source": [
    "¿Qué es Machine Learning (ML)?\n",
    "El Machine Learning (o Aprendizaje Automático) es un subcampo de la inteligencia artificial (IA) que se centra en desarrollar sistemas que aprenden de los datos para identificar patrones, tomar decisiones y hacer predicciones sin ser programados explícitamente para cada tarea específica.\n",
    "\n",
    "En lugar de seguir instrucciones paso a paso, un algoritmo de ML aprende de la experiencia (los datos) y mejora su rendimiento con el tiempo.\n",
    "\n",
    "¿Cómo Funciona?\n",
    "\n",
    "Recolección de Datos: Se recopilan grandes volúmenes de datos relevantes (ej: imágenes, texto, números).\n",
    "\n",
    "Preparación de Datos: Los datos se limpian, organizan y etiquetan para que el algoritmo pueda usarlos.\n",
    "\n",
    "Entrenamiento del Modelo: Se elige un algoritmo y se \"alimenta\" con los datos preparados. El algoritmo ajusta sus parámetros internos para encontrar patrones.\n",
    "\n",
    "Evaluación: Se prueba el modelo con datos nuevos (que no ha visto antes) para medir su precisión.\n",
    "\n",
    "Predicción/Inferencia: Una vez entrenado, el modelo se usa para hacer predicciones o clasificaciones con datos reales."
   ]
  }
 ],
 "metadata": {
  "language_info": {
   "name": "python"
  }
 },
 "nbformat": 4,
 "nbformat_minor": 5
}
