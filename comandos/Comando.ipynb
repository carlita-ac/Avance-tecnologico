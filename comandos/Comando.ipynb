{
 "cells": [
  {
   "cell_type": "markdown",
   "id": "cc3a5acb",
   "metadata": {},
   "source": [
    "¿Que es GitHub?\n",
    "\n",
    "GitHub es una plataforma basada en la nube que aloja proyectos de desarrollo de software utilizando el sistema de control de versiones Git. Funciona como un centro para que individuos y equipos colaboren en proyectos, almacenen su código en \"repositorios\", realicen un seguimiento de los cambios a lo largo del tiempo y compartan su trabajo. Es una herramienta fundamental para la colaboración, el código abierto y la gestión de versiones en el desarrollo de software. \n",
    "\n",
    "            Comandos\n",
    "\n",
    "\n",
    "1. Configuracion inicial\n",
    "\n",
    "- git config: Establece tu nombre de usuario global. ejemplo: git config --global user.name \"Tu Nombre\"\n",
    "- git config: Establece tu correo electrónico global.\tejemplo: git config --global user.email tu.email@ejemplo.com\n",
    "\n",
    "Exportar a Hojas de cálculo\n",
    "\n",
    "2. Para empezar un proyecto\n",
    "\n",
    "- git init: Inicializa un nuevo repositorio de Git en la carpeta actual de tu máquina.\tejemplo: git init\n",
    "- git clone: Descarga una copia completa de un repositorio existente de GitHub a tu máquina local.\tejemplo:git clone https://aws.amazon.com/es/what-is/repo/\n",
    "- git remote add: Conecta tu repositorio local con el repositorio remoto en GitHub (se le suele dar el alias origin). ejemplo: git remote add origin https://www.github.dev/\n",
    "\n",
    "3. Trabajo Basico(guarda cambios)\n",
    "\n",
    "- git status:\tMuestra qué archivos han sido modificados, añadidos o están listos para guardar (staged). ejemplo:\tgit status\n",
    "- git add:\tMueve los archivos modificados al área de preparación (staging area), marcándolos para el próximo commit. ejemplo:\tgit add nombre_archivo.html / git add . (todos)\n",
    "- git commit\tGuarda los cambios preparados con un mensaje descriptivo. ejemplo: Esto crea una \"instantánea\" en el historial local.\tgit commit -m \"Implementar la nueva función de login\"\n",
    "- git log:\tMuestra el historial detallado de todos los commits realizados.\tejemplo: git log\n",
    "\n",
    "4. Sincronizacion (Remoto)\n",
    "\n",
    "- git push\tSube tus commits locales al repositorio remoto en GitHub. ejemplo: git push origin main\n",
    "- git pull\tDescarga y fusiona los cambios más recientes de GitHub a tu repositorio local.\tejemplo: git pull origin main\n",
    "- git fetch\tDescarga los cambios recientes de GitHub, pero no los fusiona automáticamente. Es útil para revisar antes de integrar. ejemplo: git fetch origin\n",
    "\n",
    "5. Trabajo en ramas\n",
    "\n",
    "- git branch\tLista todas las ramas o crea una nueva.\tejemplo: git branch (listar) / git branch nueva-feature (crear)\n",
    "- git checkout\tTe mueve de una rama a otra o restaura archivos. ejemplo: git checkout nombre-rama-b fix-error-a\n",
    "- git merge\tFusiona los cambios de la rama especificada en tu rama actual. ejemplo: \tgit merge fix-error-a\n",
    "- git branch -d\tElimina la rama localmente (una vez que ha sido fusionada).\tejemplo: git branch -d nombre-rama\n",
    "\n",
    "\n"
   ]
  }
 ],
 "metadata": {
  "language_info": {
   "name": "python"
  }
 },
 "nbformat": 4,
 "nbformat_minor": 5
}
