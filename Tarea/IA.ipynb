{
 "cells": [
  {
   "cell_type": "markdown",
   "id": "017b2854",
   "metadata": {},
   "source": [
    "La inteligencia artificial (IA) es una tecnología que permite a las computadoras y máquinas simular el aprendizaje humano, la comprensión, la resolución de problemas,\n",
    "la toma de decisiones, la creatividad y la autonomía. sistemas de software (y posiblemente también de hardware) \n",
    "diseñados por humanos que, ante un objetivo complejo, actúan en la dimensión física o digital.\n",
    "\n",
    "Los sistemas de IA pueden usar reglas simbólicas o aprender un modelo numérico. \n",
    "También pueden adaptar su comportamiento al analizar cómo el medio ambiente se ve afectado por sus acciones previas.\n",
    "\n",
    "La inteligencia artificial (IA) es un campo de la informática que se enfoca en crear sistemas que puedan realizar tareas\n",
    "que normalmente requieren inteligencia humana, como el aprendizaje, el razonamiento y la percepción.\n",
    "\n",
    "Las aplicaciones y dispositivos equipados con IA pueden ver e identificar objetos. Pueden entender y responder al lenguaje humano. \n",
    "Pueden aprender de nueva información y experiencia. Pueden hacer recomendaciones detalladas a usuarios y expertos. Pueden actuar de\n",
    "manera independiente, reemplazando la necesidad de inteligencia o intervención humana (un ejemplo clásico es un automóvil autónomo)."
   ]
  }
 ],
 "metadata": {
  "language_info": {
   "name": "python"
  }
 },
 "nbformat": 4,
 "nbformat_minor": 5
}
