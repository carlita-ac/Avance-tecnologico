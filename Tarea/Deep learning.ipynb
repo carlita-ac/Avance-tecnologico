{
 "cells": [
  {
   "cell_type": "markdown",
   "id": "0877715b",
   "metadata": {},
   "source": [
    "¿Qué es el Deep Learning?\n",
    "\n",
    "El Deep Learning es un subcampo del Machine Learning (Aprendizaje Automático) que utiliza redes neuronales artificiales con muchas capas (de ahí el término \"deep\", que significa \"profundo\") para aprender y tomar decisiones inteligentes a partir de grandes cantidades de datos.\n",
    "\n",
    "La idea central está inspirada en el cerebro humano: así como las neuronas biológicas se conectan entre sí para procesar información, las redes neuronales artificiales usan capas de \"neuronas\" computacionales interconectadas para encontrar patrones extremadamente complejos en los datos.\n",
    "\n",
    "¿Por qué el Deep Learning es tan potente?\n",
    "Automatización de características (Feature Automation):\n",
    "\n",
    "En el Machine Learning tradicional, un humano tenía que decirle al algoritmo qué características eran importantes para analizar (por ejemplo, \"el ancho del pétalo\" o \"el largo del sépalo\" para clasificar flores).\n",
    "\n",
    "El Deep Learning lo hace automáticamente. Aprende por sí mismo qué características son relevantes directamente desde los datos crudos. Esto lo hace increíblemente poderoso para datos muy complejos, como imágenes y sonido.\n",
    "\n",
    "Rendimiento superior con Big Data:\n",
    "\n",
    "Su rendimiento mejora constantemente a medida que se le proporciona más datos y más poder de computación. A diferencia de otros algoritmos que se estabilizan, las redes profundas siguen mejorando."
   ]
  }
 ],
 "metadata": {
  "language_info": {
   "name": "python"
  }
 },
 "nbformat": 4,
 "nbformat_minor": 5
}
