{
 "cells": [
  {
   "cell_type": "markdown",
   "id": "23b8c448",
   "metadata": {},
   "source": [
    "¿Qué es el IoT (Internet de las Cosas)?\n",
    "\n",
    "El Internet de las Cosas (IoT) se refiere a la vasta red de objetos físicos conectados a Internet que se comunican entre sí y con otros sistemas para compartir datos y realizar acciones. Estos \"objetos\" o \"cosas\" están equipados con sensores, software y otras tecnologías que les permiten recopilar e intercambiar información en tiempo real.\n",
    "\n",
    "La idea central es conectar el mundo físico al digital, permitiendo una monitorización, control y automatización remotos sin precedentes.}\n",
    "\n",
    "Ejemplos Prácticos y Aplicaciones del IoT\n",
    "\n",
    "\n",
    "Hogar Inteligente (Smart Home):\n",
    "\n",
    "Termostatos inteligentes (como Nest) que aprenden tus hábitos y optimizan la temperatura para ahorrar energía.\n",
    "\n",
    "Cerraduras inteligentes que puedes controlar desde el celular.\n",
    "\n",
    "Altavoces inteligentes (Amazon Echo, Google Home) que actúan como centro de control.\n",
    "\n",
    "Electrodomésticos (refrigeradores, lavadoras) que se pueden monitorizar y controlar remotamente.\n",
    "\n",
    "Ciudades Inteligentes (Smart Cities):\n",
    "\n",
    "Sensores de estacionamiento que indican qué plazas están libres.\n",
    "\n",
    "Sistemas de gestión de residuos que optimizan las rutas de recolección de basura cuando los contenedores están llenos.\n",
    "\n",
    "Alumbrado público inteligente que se regula según la presencia de personas o vehículos para ahorrar energía.\n",
    "\n",
    "Industria 4.0 (IIoT - Industrial IoT):\n",
    "\n",
    "Mantenimiento predictivo: Sensores en maquinaria industrial predicen cuándo una parte va a fallar, permitiendo repararla antes de que cause una parada costosa.\n",
    "\n",
    "Optimización de la cadena de suministro: Sensores de GPS y temperatura rastrean envíos de mercancías en tiempo real.\n",
    "\n",
    "Salud (eHealth):\n",
    "\n",
    "Wearables: Pulseras (Fitbit, Apple Watch) que monitorizan tu ritmo cardíaco, sueño y actividad física.\n",
    "\n",
    "Dispositivos médicos: Marcapasos o glucómetros conectados que envían datos directamente al médico.\n",
    "\n",
    "Agricultura de Precisión:\n",
    "\n",
    "Sensores en el campo monitorizan la humedad del suelo y automatizan los sistemas de riego solo donde y cuando se necesita.\n",
    "\n",
    "Drones sobrevuelan cultivos para identificar plagas o áreas que necesitan fertilizante."
   ]
  },
  {
   "cell_type": "markdown",
   "id": "ff6a1063",
   "metadata": {},
   "source": [
    "<image src = \"https://encrypted-tbn0.gstatic.com/images?q=tbn:ANd9GcTgqLacOCZBGRj7_-B9TzzifCfzi0D2CjThBokGyqP3_Hm0mrgUFtE6kiTKeB4OX6xQFiTdRuMzrQY004pzMzHZI7MshLnRvuRnwMPvsQc\">"
   ]
  }
 ],
 "metadata": {
  "language_info": {
   "name": "python"
  }
 },
 "nbformat": 4,
 "nbformat_minor": 5
}
