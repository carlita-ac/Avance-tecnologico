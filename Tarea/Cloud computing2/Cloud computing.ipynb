{
 "cells": [
  {
   "cell_type": "markdown",
   "id": "bcf5d5ad",
   "metadata": {},
   "source": [
    "\n",
    "El Cloud Computing (o Computación en la Nube) ha revolucionado la forma en que las empresas y los individuos acceden a los recursos informáticos. En lugar de poseer y mantener la infraestructura localmente, los recursos se consumen como un servicio a través de Internet.\n",
    "\n",
    "Aquí tienes una visión completa sobre qué es, cómo funciona, sus modelos y beneficios.\n",
    "\n",
    "1. ¿Qué es el Cloud Computing?\n",
    "Definición:\n",
    "El Cloud Computing es la entrega de servicios informáticos —incluyendo servidores, almacenamiento, bases de datos, redes, software, análisis e inteligencia— a través de Internet (\"la nube\"). En lugar de comprar, poseer y mantener centros de datos y servidores físicos, puedes acceder a esta tecnología bajo demanda a través de un proveedor de servicios en la nube (como AWS, Google Cloud o Microsoft Azure).\n",
    "\n",
    "Concepto Clave:\n",
    "Se trata de pasar de un gasto de capital (CAPEX) a un gasto operativo (OPEX). Es decir, se pasa de comprar hardware costoso a pagar solo por los recursos que realmente se usan (modelo de pago por uso).\n",
    "\n",
    "2. Características Fundamentales\n",
    "Bajo Demanda (On-Demand Self-Service): Los usuarios pueden aprovisionar recursos informáticos (como tiempo de servidor o almacenamiento) automáticamente sin necesidad de interacción humana con el proveedor.\n",
    "\n",
    "Elasticidad Rápida (Rapid Elasticity): Los recursos se pueden aumentar (escalar) o reducir rápidamente y de forma automática para adaptarse a las fluctuaciones de la demanda.\n",
    "\n",
    "Pago por Uso (Measured Service): Los recursos utilizados se miden y se cobra a los usuarios solo por la cantidad que han consumido.\n",
    "\n",
    "Acceso Amplio a la Red: Los recursos están disponibles a través de la red (Internet) y se puede acceder a ellos mediante mecanismos estándar.\n",
    "\n",
    "3. Modelos de Servicio (La \"Pila\" de la Nube)\n",
    "Estos tres modelos definen el nivel de control y la gestión que mantiene el usuario frente al proveedor:\n",
    "\n",
    "- IaaS (Infraestructura como Servicio)\tSe ofrecen los elementos básicos de la computación en la nube: servidores virtuales, almacenamiento y redes. El usuario instala su propio sistema operativo, software y aplicaciones.\tProveedor: Servidores, almacenamiento físico y red. Cliente: Sistema operativo, aplicaciones, datos y seguridad.\tMáquinas virtuales (VMs), Amazon EC2, Google Compute Engine.\n",
    "- PaaS (Plataforma como Servicio)\tSe ofrece un entorno completo para desarrollar, ejecutar y gestionar aplicaciones, sin preocuparse por la infraestructura subyacente. Ideal para desarrolladores.\tProveedor: Infraestructura, sistemas operativos y middleware. Cliente: Aplicaciones y datos.\tEntornos de desarrollo, bases de datos gestionadas, Google App Engine, Heroku.\n",
    "- SaaS (Software como Servicio)\tSe ofrece el software de aplicación completo y listo para usar a través de Internet (generalmente mediante un navegador web). El usuario final solo se preocupa por usar la aplicación.\tProveedor: Absolutamente todo (Infraestructura, sistema operativo, aplicación, datos, mantenimiento, etc.). Cliente: Uso de la aplicación.\tGmail, Dropbox, Salesforce, Microsoft 365, Trello."
   ]
  }
 ],
 "metadata": {
  "language_info": {
   "name": "python"
  }
 },
 "nbformat": 4,
 "nbformat_minor": 5
}
