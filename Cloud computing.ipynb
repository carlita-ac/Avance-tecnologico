{
 "cells": [
  {
   "cell_type": "markdown",
   "id": "07e19cfa",
   "metadata": {},
   "source": [
    "¿Qué es el Cloud Computing?\n",
    "El Cloud Computing (Computación en la Nube) es un modelo tecnológico que permite el acceso bajo demanda a un pool compartido de recursos informáticos (como servidores, almacenamiento, bases de datos, redes, software, analítica e inteligencia) a través de Internet, con un modelo de pago por uso.\n",
    "\n",
    "En términos simples, en lugar de comprar, mantener y administrar tus propios servidores físicos y centros de datos, puedes alquilar acceso a casi cualquier tipo de servicio tecnológico de un proveedor de nube. Tú usas solo lo que necesitas y pagas solo por lo que usas.\n",
    "\n",
    "Ventajas Clave del Cloud Computing\n",
    "Ahorro de Costos (Cost-Efficiency):\n",
    "\n",
    "Pago por uso: Convierte los altos costos de capital (CapEx) en gastos operativos menores (OpEx). No hay que invertir en hardware costoso.\n",
    "\n",
    "Economías de escala: Los grandes proveedores ofrecen precios más bajos debido a su enorme escala.\n",
    "\n",
    "Escalabilidad y Elasticidad:\n",
    "\n",
    "Escalar hacia arriba o abajo al instante para adaptarse a las cargas de trabajo. Es ideal para cargas de trabajo variables (ej: una app que se vuelve viral de la noche a la mañana).\n",
    "\n",
    "Confiabilidad y Alta Disponibilidad:\n",
    "\n",
    "Los proveedores ofrecen redundancia de datos en múltiples centros de datos, lo que garantiza copias de seguridad (backups) y recuperación ante desastres de forma automática y casi inmediata.\n",
    "\n",
    "Seguridad:\n",
    "\n",
    "Los proveedores de nube líderes invierten millones en seguridad, ofreciendo often más y mejores medidas de protección de las que una empresa promedio podría implementar por sí misma.\n",
    "\n",
    "Agilidad y Velocidad:\n",
    "\n",
    "Los recursos IT están a solo un clic de distancia, lo que permite implementar nuevas aplicaciones en minutos, no en semanas o meses.\n",
    "\n",
    "Posibles Desventajas\n",
    "Dependencia del Proveedor (Vendor Lock-in): Migrar de un proveedor de nube a otro puede ser complejo y costoso.\n",
    "\n",
    "Problemas de Conectividad: Si no tienes conexión a Internet, pierdes el acceso a todo.\n",
    "\n",
    "Seguridad y Privacidad: Aunque es muy seguro, almacenar datos sensibles en servidores de terceros siempre requiere una gestión cuidadosa de la configuración y el acceso."
   ]
  }
 ],
 "metadata": {
  "language_info": {
   "name": "python"
  }
 },
 "nbformat": 4,
 "nbformat_minor": 5
}
